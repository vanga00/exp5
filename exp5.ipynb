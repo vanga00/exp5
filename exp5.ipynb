{
 "cells": [
  {
   "cell_type": "code",
   "execution_count": 20,
   "id": "573856b3",
   "metadata": {},
   "outputs": [
    {
     "name": "stdout",
     "output_type": "stream",
     "text": [
      "Target is reachable from source within max depth\n"
     ]
    }
   ],
   "source": [
    "from collections import defaultdict\n",
    "class Graph:\n",
    "\tdef __init__(self,vertices):\n",
    "\t\tself.V = vertices\n",
    "\t\tself.graph = defaultdict(list)\n",
    "\tdef addEdge(self,u,v):\n",
    "\t\tself.graph[u].append(v)\n",
    "\tdef DLS(self,src,target,maxDepth):\n",
    "\n",
    "\t\tif src == target : return True\n",
    "\t\tif maxDepth <= 0 : return False\n",
    "\t\tfor i in self.graph[src]:\n",
    "\t\t\t\tif(self.DLS(i,target,maxDepth-1)):\n",
    "\t\t\t\t\treturn True\n",
    "\t\treturn False\n",
    "\tdef IDDFS(self,src, target, maxDepth):\n",
    "\t\tfor i in range(maxDepth):\n",
    "\t\t\tif (self.DLS(src, target, i)):\n",
    "\t\t\t\treturn True\n",
    "\t\treturn False\n",
    "g = Graph (7);\n",
    "g.addEdge(0, 1)\n",
    "g.addEdge(0, 2)\n",
    "g.addEdge(1, 3)\n",
    "g.addEdge(1, 4)\n",
    "g.addEdge(2, 5)\n",
    "g.addEdge(2, 6)\n",
    "target = 6; maxDepth = 3; src = 0\n",
    "if g.IDDFS(src, target, maxDepth) == True:\n",
    "\tprint (\"Target is reachable from source \" +\n",
    "\t\t\"within max depth\")\n",
    "else :\n",
    "\tprint (\"Target is NOT reachable from source \" +\n",
    "\t\t\"within max depth\")"
   ]
  }
 ],
 "metadata": {
  "kernelspec": {
   "display_name": "Python 3 (ipykernel)",
   "language": "python",
   "name": "python3"
  },
  "language_info": {
   "codemirror_mode": {
    "name": "ipython",
    "version": 3
   },
   "file_extension": ".py",
   "mimetype": "text/x-python",
   "name": "python",
   "nbconvert_exporter": "python",
   "pygments_lexer": "ipython3",
   "version": "3.11.5"
  }
 },
 "nbformat": 4,
 "nbformat_minor": 5
}
